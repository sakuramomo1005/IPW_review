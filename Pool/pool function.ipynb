{
 "cells": [
  {
   "cell_type": "markdown",
   "metadata": {},
   "source": [
    "### Pool function in the multiple imputation\n",
    "\n",
    "2019-05-12\n",
    "\n",
    "Just dobule check"
   ]
  },
  {
   "cell_type": "markdown",
   "metadata": {},
   "source": [
    "The MI inference is usually based on a $t$-distribution with DF given by \n",
    "$$v = (Q - 1) \\big(1 + \\frac{Q}{Q+1} \\frac{W}{B}\\big)^2$$\n",
    "where, \n",
    "\n",
    "* B: between-imputation variance \n",
    "* w: average within-imputation variance\n",
    "* Q: number of imputation"
   ]
  },
  {
   "cell_type": "markdown",
   "metadata": {},
   "source": [
    "Howeverm this DF is derived under the assumpition that the complete data's DF ($v_{\\text{com}}$) is infinite. \n",
    "<br>\n",
    "The value $v_{\\text{com}}$ is usually calculated based on the number of clusters in the study, rather than the number of individuals. In CRT, with equal number of clusters in each intervention group, $v_{\\text{com}}$ can be calculated as \n",
    "$$v_{\\text{com}} = 2k - 2$$\n",
    "\n",
    "If $k$ is small, then it is not appropriate. We need to calculate the adjusted DF. It can be writen as: \n",
    "\n",
    "$$v_{\\text{adj}} = (v^{-1} + \\hat{v}^{-1}_{\\text{obs}})^{-1}$$\n",
    "where\n",
    "$$\\hat{v}^{-1}_{\\text{obs}} = \\big(\\frac{v_{\\text{com}} + 1}{v_{\\text{com}} + 3}\\big) v_{\\text{com}} \\big( 1 + \\frac{Q + 1}{Q}\\frac{B}{W}\\big)^{-1}$$"
   ]
  },
  {
   "cell_type": "markdown",
   "metadata": {},
   "source": [
    "#### The R function:"
   ]
  },
  {
   "cell_type": "code",
   "execution_count": 1,
   "metadata": {},
   "outputs": [],
   "source": [
    "mypool <- function(mean0,sd0,num=5,J=50){\n",
    " \n",
    "  ########################################\n",
    "  # input: \n",
    "  # mean0: a vector of the values of estimated beta parameter, with length equals to the imputation time.\n",
    "  # sd0: a vector of the standard deviations of the estimated beta parameter, with length equals to the imputation time.\n",
    "  # num: impuation time\n",
    "  # J: the number of clusters in each intervention arm \n",
    "  ########################################\n",
    "  \n",
    "  # count the times of NA in the input vector.\n",
    "  na_times <- sum(is.na(mean0)) \n",
    "  # the number of imputations without NA. \n",
    "  num_actual <- num-na_times \n",
    "  \n",
    "  # the MI estimate of the beta parameter\n",
    "  m <- mean(mean0,na.rm=TRUE) \n",
    "  \n",
    "  # estimate of average wihtin-imputation variance \n",
    "  # i.e. based on the SE^2 of the beta parameter from each fitted model\n",
    "  W <- mean(sd0^2,na.rm=TRUE) \n",
    "  \n",
    "  # estimate of between-imputation variance \n",
    "  # i.e. empirical SD of the point estimates of beta parameter\n",
    "  B <- var(mean0,na.rm=TRUE) \n",
    "  \n",
    "  # estimate of total variance \n",
    "  # i.e. will need to take the sqrt of this to use for inference in making confidence intervals etc.\n",
    "  v_hat <- W+(1+1/num_actual)*B \n",
    "  v_hat_sqrt<-sqrt(v_hat)\n",
    "  \n",
    "  # Testing based on standard results from MI literature\n",
    "  # i.e. df of t distribution for testing based on standard results from MI literature\n",
    "  df_denom <- (1+1/num_actual)*B\n",
    "  df_part <- 1+W/df_denom\n",
    "  df_t <- (num_actual-1)*df_part^2 # adjusted df of t distribution\n",
    " \n",
    "  # Testing based on results from MMI literature, Barnard and Rubin (1999), \n",
    "  # df of t distribution for testing based on results in re adjustment for MMI feature\n",
    "  \n",
    "  #df for full data\n",
    "  df_com <- 2*J - 2 \n",
    "  \n",
    "  # calculate the adjusted df based on the literature.\n",
    "  parenthesis <- 1+df_denom*(1/W) \n",
    "  df_obs <- df_com*((df_com+1)/(df_com+3))*(1/parenthesis) \n",
    "  df_adj_t <- 1/(1/df_t + 1/df_obs) \n",
    "  \n",
    "  # Print the results\n",
    "  print(\"Standard t df and Barnard/Rubin adjusted t df\");\n",
    "  print(c(df_t, df_adj_t))\n",
    "  print(\"97.5% quantiles from standard t df and Barnard/Rubin adjusted t df\");\n",
    "  print(c(qt(0.975,df_t), qt(0.975,df_adj_t)))\n",
    "  \n",
    "  return(list(mean=m,std=v_hat_sqrt,\n",
    "              df_t=df_t,\n",
    "              df_adj_t=df_adj_t))\n",
    "}\n"
   ]
  },
  {
   "cell_type": "code",
   "execution_count": 2,
   "metadata": {},
   "outputs": [],
   "source": [
    "mean0 = rnorm(15); sd0 = rnorm(15); num = 15; J = 10"
   ]
  },
  {
   "cell_type": "markdown",
   "metadata": {},
   "source": [
    "The $Q$ is: "
   ]
  },
  {
   "cell_type": "code",
   "execution_count": 3,
   "metadata": {},
   "outputs": [
    {
     "data": {
      "text/html": [
       "15"
      ],
      "text/latex": [
       "15"
      ],
      "text/markdown": [
       "15"
      ],
      "text/plain": [
       "[1] 15"
      ]
     },
     "metadata": {},
     "output_type": "display_data"
    }
   ],
   "source": [
    "# the number of imputations without NA. \n",
    "na_times <- sum(is.na(mean0)) \n",
    "num_actual <- num-na_times \n",
    "num_actual"
   ]
  },
  {
   "cell_type": "markdown",
   "metadata": {},
   "source": [
    "Estimate of average wihtin-imputation variance "
   ]
  },
  {
   "cell_type": "code",
   "execution_count": 4,
   "metadata": {},
   "outputs": [
    {
     "data": {
      "text/html": [
       "1.19235833540272"
      ],
      "text/latex": [
       "1.19235833540272"
      ],
      "text/markdown": [
       "1.19235833540272"
      ],
      "text/plain": [
       "[1] 1.192358"
      ]
     },
     "metadata": {},
     "output_type": "display_data"
    }
   ],
   "source": [
    "W <- mean(sd0^2,na.rm=TRUE) \n",
    "W"
   ]
  },
  {
   "cell_type": "markdown",
   "metadata": {},
   "source": [
    "Estimate of between-imputation variance "
   ]
  },
  {
   "cell_type": "code",
   "execution_count": 5,
   "metadata": {},
   "outputs": [
    {
     "data": {
      "text/html": [
       "1.05391333138236"
      ],
      "text/latex": [
       "1.05391333138236"
      ],
      "text/markdown": [
       "1.05391333138236"
      ],
      "text/plain": [
       "[1] 1.053913"
      ]
     },
     "metadata": {},
     "output_type": "display_data"
    }
   ],
   "source": [
    "B <- var(mean0,na.rm=TRUE) \n",
    "B"
   ]
  },
  {
   "cell_type": "markdown",
   "metadata": {},
   "source": [
    "Calculate $v$\n",
    "$$v = (Q - 1) \\big(1 + \\frac{Q}{Q+1} \\frac{W}{B}\\big)^2$$\n",
    "\n",
    "* $v = \\text{df_t} = (\\text{num_actual} - 1) (\\text{df_part})^2$\n",
    "* $\\text{df_part} = \\big(1 + \\frac{Q}{Q+1} \\frac{W}{B}\\big) = (1+W/\\text{df_denom})$\n",
    "* $1/\\text{df_denom} = \\frac{Q}{Q+1} \\frac{1}{B}$\n",
    "* $\\text{df_denom} = \\frac{Q+1}{Q} B = (1 + \\frac{1}{Q})B$\n",
    "\n",
    "Therefore,"
   ]
  },
  {
   "cell_type": "code",
   "execution_count": 6,
   "metadata": {},
   "outputs": [
    {
     "data": {
      "text/html": [
       "59.4480492626586"
      ],
      "text/latex": [
       "59.4480492626586"
      ],
      "text/markdown": [
       "59.4480492626586"
      ],
      "text/plain": [
       "[1] 59.44805"
      ]
     },
     "metadata": {},
     "output_type": "display_data"
    }
   ],
   "source": [
    "df_denom <- (1+1/num_actual)*B\n",
    "df_part <- 1+W/df_denom\n",
    "df_t <- (num_actual-1)*df_part^2\n",
    "df_t"
   ]
  },
  {
   "cell_type": "markdown",
   "metadata": {},
   "source": [
    "Calculate\n",
    "$v_{\\text{com}} = 2k - 2$"
   ]
  },
  {
   "cell_type": "code",
   "execution_count": 7,
   "metadata": {},
   "outputs": [
    {
     "data": {
      "text/html": [
       "18"
      ],
      "text/latex": [
       "18"
      ],
      "text/markdown": [
       "18"
      ],
      "text/plain": [
       "[1] 18"
      ]
     },
     "metadata": {},
     "output_type": "display_data"
    }
   ],
   "source": [
    "df_com <- 2*J - 2 \n",
    "df_com"
   ]
  },
  {
   "cell_type": "markdown",
   "metadata": {},
   "source": [
    "Calculate \n",
    "$$\\hat{v}^{-1}_{\\text{obs}} = \\big(\\frac{v_{\\text{com}} + 1}{v_{\\text{com}} + 3}\\big) v_{\\text{com}} \\big( 1 + \\frac{Q + 1}{Q}\\frac{B}{W}\\big)^{-1}$$\n",
    "\n",
    "* $\\text{df_denom} = (1 + \\frac{1}{Q})B$\n",
    "* $\\text{parenthesis}$ = $\\big( 1 + \\frac{Q + 1}{Q}\\frac{B}{W}\\big) = 1 + \\text{df_denom}/W$\n"
   ]
  },
  {
   "cell_type": "code",
   "execution_count": 8,
   "metadata": {},
   "outputs": [
    {
     "data": {
      "text/html": [
       "1.94281575157647"
      ],
      "text/latex": [
       "1.94281575157647"
      ],
      "text/markdown": [
       "1.94281575157647"
      ],
      "text/plain": [
       "[1] 1.942816"
      ]
     },
     "metadata": {},
     "output_type": "display_data"
    }
   ],
   "source": [
    "parenthesis <- 1+df_denom*(1/W)\n",
    "parenthesis"
   ]
  },
  {
   "cell_type": "code",
   "execution_count": 9,
   "metadata": {},
   "outputs": [
    {
     "data": {
      "text/html": [
       "8.38253152544162"
      ],
      "text/latex": [
       "8.38253152544162"
      ],
      "text/markdown": [
       "8.38253152544162"
      ],
      "text/plain": [
       "[1] 8.382532"
      ]
     },
     "metadata": {},
     "output_type": "display_data"
    }
   ],
   "source": [
    "df_obs <- df_com*((df_com+1)/(df_com+3))*(1/parenthesis) \n",
    "df_obs"
   ]
  },
  {
   "cell_type": "markdown",
   "metadata": {},
   "source": [
    "Calculate the \n",
    "$$v_{\\text{adj}} = (v^{-1} + \\hat{v}^{-1}_{\\text{obs}})^{-1}$$"
   ]
  },
  {
   "cell_type": "code",
   "execution_count": 10,
   "metadata": {
    "scrolled": true
   },
   "outputs": [
    {
     "data": {
      "text/html": [
       "7.34661477581901"
      ],
      "text/latex": [
       "7.34661477581901"
      ],
      "text/markdown": [
       "7.34661477581901"
      ],
      "text/plain": [
       "[1] 7.346615"
      ]
     },
     "metadata": {},
     "output_type": "display_data"
    }
   ],
   "source": [
    "df_adj_t <- 1/(1/df_t + 1/df_obs)\n",
    "df_adj_t"
   ]
  }
 ],
 "metadata": {
  "kernelspec": {
   "display_name": "R",
   "language": "R",
   "name": "ir"
  },
  "language_info": {
   "codemirror_mode": "r",
   "file_extension": ".r",
   "mimetype": "text/x-r-source",
   "name": "R",
   "pygments_lexer": "r",
   "version": "3.5.1"
  }
 },
 "nbformat": 4,
 "nbformat_minor": 2
}
